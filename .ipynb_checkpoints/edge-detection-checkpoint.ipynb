{
 "cells": [
  {
   "cell_type": "code",
   "execution_count": 32,
   "id": "6e3ea4dd-1603-4987-9a5c-2399b54c41ac",
   "metadata": {},
   "outputs": [],
   "source": [
    "import pandas as pd"
   ]
  },
  {
   "cell_type": "code",
   "execution_count": 33,
   "id": "450cf236-812d-4cec-b93a-b99f3d01f6dc",
   "metadata": {},
   "outputs": [],
   "source": [
    "def detect_edges_and_extract_features(image):\n",
    "   # Convert the image to grayscale\n",
    "   gray = cv2.cvtColor(image, cv2.COLOR_BGR2GRAY)\n",
    " \n",
    "   # Apply GaussianBlur to reduce noise and improve edge detection\n",
    "   blurred = cv2.GaussianBlur(gray, (5, 5), 0)\n",
    " \n",
    "   # Detect edges using Canny edge detection\n",
    "   edges = cv2.Canny(blurred, 50, 150)\n",
    " \n",
    "   # Find contours based on the edges\n",
    "   contours, _ = cv2.findContours(edges, cv2.RETR_EXTERNAL, cv2.CHAIN_APPROX_SIMPLE)\n",
    " \n",
    "   features = []\n",
    "   for contour in contours:\n",
    "       # Approximate the contour to reduce the number of points (vertices)\n",
    "       epsilon = 0.04 * cv2.arcLength(contour, True)\n",
    "       approx = cv2.approxPolyDP(contour, epsilon, True)\n",
    " \n",
    "       # Count the number of edges (sides) in the shape\n",
    "       sides = len(approx)\n",
    " \n",
    "       # Calculate the area and perimeter of the shape\n",
    "       area = cv2.contourArea(contour)\n",
    "       perimeter = cv2.arcLength(contour, True)\n",
    " \n",
    "       # Calculate aspect ratio of the bounding rectangle\n",
    "       x, y, w, h = cv2.boundingRect(contour)\n",
    "       aspect_ratio = w / float(h)\n",
    " \n",
    "       # Determine curvature (simple heuristic based on sides and perimeter)\n",
    "       curvature = perimeter / sides if sides != 0 else 0\n",
    " \n",
    "       # Normalize features to a common scale and store\n",
    "       feature = [sides, area, perimeter, aspect_ratio, curvature]\n",
    "       features.append(feature)\n",
    " \n",
    "       # Draw the contours on the original image for visualization\n",
    "       cv2.drawContours(image, [approx], -1, (0, 255, 0), 2)\n",
    " \n",
    "   return features, image\n",
    " "
   ]
  },
  {
   "cell_type": "code",
   "execution_count": 49,
   "id": "68a588af-ab13-4115-98af-e27ed635d95a",
   "metadata": {},
   "outputs": [],
   "source": [
    "# Load an image and process it\n",
    "image = cv2.imread('shapes_grid.png')  # replace 'shapes.png' with your image file\n",
    "features, processed_image = detect_edges_and_extract_features(image)\n",
    " \n",
    "# Show the processed image with detected shapes\n",
    "cv2.imshow(\"Processed Image\", processed_image)\n",
    "cv2.waitKey(0)\n",
    "cv2.destroyAllWindows()"
   ]
  },
  {
   "cell_type": "code",
   "execution_count": 50,
   "id": "30d45822-5967-4b81-82f0-8eff72120a6a",
   "metadata": {},
   "outputs": [
    {
     "data": {
      "text/plain": [
       "[[4, 74250.0, 1257.6568541526794, 3.0, 314.41421353816986],\n",
       " [3, 23448.5, 761.6294986009598, 0.7410358565737052, 253.87649953365326],\n",
       " [4, 57796.0, 958.3515014648438, 1.0, 239.58787536621094],\n",
       " [4, 67173.0, 1035.6568541526794, 1.1008064516129032, 258.91421353816986],\n",
       " [3, 46395.0, 1021.5188946723938, 1.2181818181818183, 340.5062982241313],\n",
       " [5, 77686.5, 1115.1584968566895, 1.0489296636085628, 223.03169937133788]]"
      ]
     },
     "execution_count": 50,
     "metadata": {},
     "output_type": "execute_result"
    }
   ],
   "source": [
    "features"
   ]
  },
  {
   "cell_type": "code",
   "execution_count": 51,
   "id": "628c9f6e-aaf6-47fb-8853-4044492768fb",
   "metadata": {},
   "outputs": [],
   "source": [
    "import pandas as pd"
   ]
  },
  {
   "cell_type": "code",
   "execution_count": 52,
   "id": "f46d383a-4393-4ecd-8983-af6757e0e450",
   "metadata": {},
   "outputs": [],
   "source": [
    "df=pd.DataFrame(features,columns=['sides', 'area', 'perimeter', 'aspect-ratio','curvature'])"
   ]
  },
  {
   "cell_type": "code",
   "execution_count": 53,
   "id": "4d354268-f3d2-4147-96a3-f152c0bf1e0d",
   "metadata": {},
   "outputs": [],
   "source": [
    "y= [ 'rectangle','triangle','square','square','triangle','pentagon']"
   ]
  },
  {
   "cell_type": "code",
   "execution_count": 54,
   "id": "3cf6cc1e-fdf6-4cb8-89d4-557857c00ecf",
   "metadata": {},
   "outputs": [],
   "source": [
    "df['shape']=y"
   ]
  },
  {
   "cell_type": "code",
   "execution_count": 55,
   "id": "b37637ae-b974-4605-87c0-79da3fc69471",
   "metadata": {},
   "outputs": [
    {
     "data": {
      "text/html": [
       "<div>\n",
       "<style scoped>\n",
       "    .dataframe tbody tr th:only-of-type {\n",
       "        vertical-align: middle;\n",
       "    }\n",
       "\n",
       "    .dataframe tbody tr th {\n",
       "        vertical-align: top;\n",
       "    }\n",
       "\n",
       "    .dataframe thead th {\n",
       "        text-align: right;\n",
       "    }\n",
       "</style>\n",
       "<table border=\"1\" class=\"dataframe\">\n",
       "  <thead>\n",
       "    <tr style=\"text-align: right;\">\n",
       "      <th></th>\n",
       "      <th>sides</th>\n",
       "      <th>area</th>\n",
       "      <th>perimeter</th>\n",
       "      <th>aspect-ratio</th>\n",
       "      <th>curvature</th>\n",
       "      <th>shape</th>\n",
       "    </tr>\n",
       "  </thead>\n",
       "  <tbody>\n",
       "    <tr>\n",
       "      <th>0</th>\n",
       "      <td>4</td>\n",
       "      <td>74250.0</td>\n",
       "      <td>1257.656854</td>\n",
       "      <td>3.000000</td>\n",
       "      <td>314.414214</td>\n",
       "      <td>rectangle</td>\n",
       "    </tr>\n",
       "    <tr>\n",
       "      <th>1</th>\n",
       "      <td>3</td>\n",
       "      <td>23448.5</td>\n",
       "      <td>761.629499</td>\n",
       "      <td>0.741036</td>\n",
       "      <td>253.876500</td>\n",
       "      <td>triangle</td>\n",
       "    </tr>\n",
       "    <tr>\n",
       "      <th>2</th>\n",
       "      <td>4</td>\n",
       "      <td>57796.0</td>\n",
       "      <td>958.351501</td>\n",
       "      <td>1.000000</td>\n",
       "      <td>239.587875</td>\n",
       "      <td>square</td>\n",
       "    </tr>\n",
       "    <tr>\n",
       "      <th>3</th>\n",
       "      <td>4</td>\n",
       "      <td>67173.0</td>\n",
       "      <td>1035.656854</td>\n",
       "      <td>1.100806</td>\n",
       "      <td>258.914214</td>\n",
       "      <td>square</td>\n",
       "    </tr>\n",
       "    <tr>\n",
       "      <th>4</th>\n",
       "      <td>3</td>\n",
       "      <td>46395.0</td>\n",
       "      <td>1021.518895</td>\n",
       "      <td>1.218182</td>\n",
       "      <td>340.506298</td>\n",
       "      <td>triangle</td>\n",
       "    </tr>\n",
       "    <tr>\n",
       "      <th>5</th>\n",
       "      <td>5</td>\n",
       "      <td>77686.5</td>\n",
       "      <td>1115.158497</td>\n",
       "      <td>1.048930</td>\n",
       "      <td>223.031699</td>\n",
       "      <td>pentagon</td>\n",
       "    </tr>\n",
       "  </tbody>\n",
       "</table>\n",
       "</div>"
      ],
      "text/plain": [
       "   sides     area    perimeter  aspect-ratio   curvature      shape\n",
       "0      4  74250.0  1257.656854      3.000000  314.414214  rectangle\n",
       "1      3  23448.5   761.629499      0.741036  253.876500   triangle\n",
       "2      4  57796.0   958.351501      1.000000  239.587875     square\n",
       "3      4  67173.0  1035.656854      1.100806  258.914214     square\n",
       "4      3  46395.0  1021.518895      1.218182  340.506298   triangle\n",
       "5      5  77686.5  1115.158497      1.048930  223.031699   pentagon"
      ]
     },
     "execution_count": 55,
     "metadata": {},
     "output_type": "execute_result"
    }
   ],
   "source": [
    "df"
   ]
  },
  {
   "cell_type": "code",
   "execution_count": 56,
   "id": "01570dbe-c770-4492-bebd-443ebe28245e",
   "metadata": {},
   "outputs": [],
   "source": [
    "from sklearn.model_selection import train_test_split"
   ]
  },
  {
   "cell_type": "code",
   "execution_count": 57,
   "id": "87f403b6-7f66-418e-b1a6-e5d935763022",
   "metadata": {},
   "outputs": [],
   "source": [
    "x=df.drop(['shape'],axis=1)"
   ]
  },
  {
   "cell_type": "code",
   "execution_count": 58,
   "id": "7fd30f49-8f8f-4b63-8cac-a99da9f36e7b",
   "metadata": {},
   "outputs": [],
   "source": [
    "y=df['shape']"
   ]
  },
  {
   "cell_type": "code",
   "execution_count": 61,
   "id": "e32ddb69-38c8-4d1b-a104-0aa1318a001a",
   "metadata": {},
   "outputs": [],
   "source": [
    "x_train,x_test,y_train,y_test=train_test_split(x,y,test_size=0.1)"
   ]
  },
  {
   "cell_type": "code",
   "execution_count": null,
   "id": "aae69030-3b96-4dd7-bc58-7dd9881c497d",
   "metadata": {},
   "outputs": [],
   "source": []
  },
  {
   "cell_type": "code",
   "execution_count": null,
   "id": "67f373a0-c0d6-4bea-bab2-cb3966861289",
   "metadata": {},
   "outputs": [],
   "source": []
  },
  {
   "cell_type": "code",
   "execution_count": null,
   "id": "5f790111-e167-4d9e-b838-d95bfa31a475",
   "metadata": {},
   "outputs": [],
   "source": []
  }
 ],
 "metadata": {
  "kernelspec": {
   "display_name": "Python 3 (ipykernel)",
   "language": "python",
   "name": "python3"
  },
  "language_info": {
   "codemirror_mode": {
    "name": "ipython",
    "version": 3
   },
   "file_extension": ".py",
   "mimetype": "text/x-python",
   "name": "python",
   "nbconvert_exporter": "python",
   "pygments_lexer": "ipython3",
   "version": "3.12.3"
  }
 },
 "nbformat": 4,
 "nbformat_minor": 5
}
